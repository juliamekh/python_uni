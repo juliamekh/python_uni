{
  "nbformat": 4,
  "nbformat_minor": 0,
  "metadata": {
    "colab": {
      "provenance": []
    },
    "kernelspec": {
      "name": "python3",
      "display_name": "Python 3"
    },
    "language_info": {
      "name": "python"
    }
  },
  "cells": [
    {
      "cell_type": "code",
      "source": [
        "import pandas as pd\n",
        "\n",
        "df = pd.read_csv('Akinator_answ.csv')\n",
        "print(df.to_string(index=False))\n",
        "\n",
        "class AkinatorTable:\n",
        "    def __init__(self, table):\n",
        "        self.table = table\n",
        "    \n",
        "    def filter_by_gender(self, gender):\n",
        "        self.table = self.table[self.table['ПОЛ'] == gender]\n",
        "    \n",
        "    def filter_by_eye(self, color):\n",
        "        self.table = self.table[self.table['Цвет глаз'] == color]\n",
        "    \n",
        "    def filter_by_hair(self, hair):\n",
        "        self.table = self.table[self.table['цвет волос'] == hair]\n",
        "\n",
        "    def filter_by_height(self, height):\n",
        "        if height.lower() == 'низкий':\n",
        "            self.table = self.table[(self.table['рост'] >= 155) & (self.table['рост'] <= 165)]\n",
        "        elif height.lower() == 'средний':\n",
        "            self.table = self.table[(self.table['рост'] >= 166) & (self.table['рост'] <= 175)]\n",
        "        elif height.lower() == 'высокий':\n",
        "            self.table = self.table[(self.table['рост'] >= 176) & (self.table['рост'] <= 185)]\n",
        "        else:\n",
        "            self.table = pd.DataFrame(columns=self.table.columns)\n",
        "    \n",
        "    def to_string(self):\n",
        "        return self.table.to_string(index=False)\n",
        "\n",
        "akinator_table = AkinatorTable(df)\n",
        "\n",
        "gender = input(\"Какого человека пола? (М/Ж) \")\n",
        "eye = input(\"Какого цвета глаза у человека? (голубые, серые, зеленые, карие) \")\n",
        "hair = input(\"Какого цвета волосы у человека? (Темные, Светлые, Рыжие) \")\n",
        "height = input(\"Какого роста человек? (высокий/средний/низкий) \")\n",
        "\n",
        "akinator_table.filter_by_gender(gender)\n",
        "akinator_table.filter_by_eye (eye)\n",
        "akinator_table.filter_by_hair (hair)\n",
        "akinator_table.filter_by_height(height)\n",
        "print(' ')\n",
        "print('Эти люди подходят под эти критерии:')\n",
        "print(' ')\n",
        "print(akinator_table.to_string())\n"
      ],
      "metadata": {
        "colab": {
          "base_uri": "https://localhost:8080/"
        },
        "id": "YUIaAyoWWk9g",
        "outputId": "1d49be4c-afb3-4b90-c900-6ceba101a430"
      },
      "execution_count": 2,
      "outputs": [
        {
          "output_type": "stream",
          "name": "stdout",
          "text": [
            "                             ФИО ПОЛ Дата рождения Цвет глаз  рост цвет волос\n",
            "                Аляутдинов Айрат   М    03.10.2004     карие   180     Темные\n",
            "Белоглазова Анастасия Дмитриевна   Ж    14.03.2004   голубые   170    Светлые\n",
            "    Беспалая Ангелина Виталиевна   Ж    22.02.2003   голубые   170    Светлые\n",
            "     Вяткин Андрей Александрович   М    19.09.2004     серые   180     Темные\n",
            "      Ермолаева Диана Евгеньевна   Ж    27.03.2004     карие   163     Темные\n",
            "                  Илюха Буткевич   М    06.11.2001     серые   180    Светлые\n",
            "       Караваева Диана Олеговна    Ж    05.11.2004     карие   167     Темные\n",
            "      Карташов Василий Сергеевич   М    24.03.2003   голубые   175    Светлые\n",
            "  Колчева Ангелина Александровна   Ж    10.12.2004   голубые   176     Темные\n",
            "  Краснощекова Ксения Максимовна   Ж    26.10.2004     карие   173      Рыжие\n",
            "       мехтиева юлия эльнаровна    Ж    02.07.2004   голубые   160     Темные\n",
            "                      Мухин Влад   М    22.01.2005   зеленые   175    Светлые\n",
            "          Павшок Артём Сергеевич   М    24.06.2004     карие   181     Темные\n",
            "                       Прох Илья   М    30.07.2004   голубые   180     Темные\n",
            "  Тумкина Анастасия Вячеславовна   Ж    01.06.2004   зеленые   175     Темные\n",
            "         Фозилов Мурид Фозилович   М    22.01.2000     карие   169     Темные\n",
            "               Ходеев Александр    М    27.10.2004   голубые   185     Темные\n",
            "                  Чан Вьет Хоанг   М    28.02.2001     карие   155     Темные\n",
            "Какого человека пола? (М/Ж) М\n",
            "Какого цвета глаза у человека? (голубые, серые, зеленые, карие) голубые\n",
            "Какого цвета волосы у человека? (Темные, Светлые, Рыжие) Темные\n",
            "Какого роста человек? (высокий/средний/низкий) высокий\n",
            " \n",
            "Эти люди подходят под эти критерии:\n",
            " \n",
            "              ФИО ПОЛ Дата рождения Цвет глаз  рост цвет волос\n",
            "        Прох Илья   М    30.07.2004   голубые   180     Темные\n",
            "Ходеев Александр    М    27.10.2004   голубые   185     Темные\n"
          ]
        }
      ]
    }
  ]
}