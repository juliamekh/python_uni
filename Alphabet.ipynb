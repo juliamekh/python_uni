{
  "nbformat": 4,
  "nbformat_minor": 0,
  "metadata": {
    "colab": {
      "provenance": []
    },
    "kernelspec": {
      "name": "python3",
      "display_name": "Python 3"
    },
    "language_info": {
      "name": "python"
    }
  },
  "cells": [
    {
      "cell_type": "code",
      "source": [
        "dict1 = {'А':'Я', 'Б':'Ю', 'В':'Э', 'Г':'Ь', 'Д':'Ы', 'Е':'Ъ', 'Ё':'Щ', 'Ж':'Ш', 'З':'Ч', 'И':'Ц', 'Й':'Х', 'К':'Ф', 'Л':'У', 'М':'Т', 'Н':'С', 'О':'Р', 'П':'П', 'Р':'О', 'С':'Н', 'Т':'М', 'У':'Л', 'Ф':'К', 'Х':'Й', 'Ц':'И', 'Ч':'З', 'Ш':'Ж', 'Щ':'Ё', 'Ъ':'Е', 'Ы':'Д', 'Ь':'Г', 'Э':'В', 'Ю':'Б', 'Я':'А'}\n",
        "newdict = {}\n",
        "for k, v in dict1.items(): newdict[v] = k\n",
        "string1 = input()\n",
        "answer = []\n",
        "for i in string1:\n",
        "  if i == ' ':\n",
        "    answer.append(' ')\n",
        "  elif i.upper() in dict1:\n",
        "    answer.append(newdict[i.upper()].lower() if i.islower() else newdict[i.upper()])\n",
        "print(''.join(answer))\n",
        "\n"
      ],
      "metadata": {
        "colab": {
          "base_uri": "https://localhost:8080/"
        },
        "id": "M7dPqD-aw4Lx",
        "outputId": "96527901-759d-4fb4-eb1c-3806efb2799c"
      },
      "execution_count": 4,
      "outputs": [
        {
          "output_type": "stream",
          "name": "stdout",
          "text": [
            "Василий Андреевич\n",
            "Эянцуцх Ясыоъъэцз\n"
          ]
        }
      ]
    }
  ]
}