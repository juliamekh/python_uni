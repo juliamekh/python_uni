{
  "nbformat": 4,
  "nbformat_minor": 0,
  "metadata": {
    "colab": {
      "provenance": []
    },
    "kernelspec": {
      "name": "python3",
      "display_name": "Python 3"
    },
    "language_info": {
      "name": "python"
    }
  },
  "cells": [
    {
      "cell_type": "code",
      "source": [
        "import numpy as np\n",
        "\n",
        "def simpson_method(f, a, b, n):\n",
        "    h = (b - a) / n\n",
        "    x = np.linspace(a, b, n+1)\n",
        "    y = f(x)\n",
        "    S = h / 3 * (y[0] + 4 * np.sum(y[1:n:2]) + 2 * np.sum(y[2:n:2]) + y[n])\n",
        "    return S\n",
        "\n",
        "def rectangle_method(f, a, b, n):\n",
        "    h = (b - a) / n\n",
        "    x = np.linspace(a + h / 2, b - h / 2, n)\n",
        "    y = f(x)\n",
        "    S = h * np.sum(y)\n",
        "    return S\n",
        "\n",
        "def trapezoid_method(f, a, b, n):\n",
        "    h = (b - a) / n\n",
        "    x = np.linspace(a, b, n+1)\n",
        "    y = f(x)\n",
        "    S = h / 2 * (y[0] + 2 * np.sum(y[1:n]) + y[n])\n",
        "    return S\n",
        "\n",
        "integral_value = 10 # задаем значение интеграла\n",
        "f = lambda x: x**2 # задаем функцию, которую будем интегрировать\n",
        "a, b = 0, 1 # задаем границы интегрирования\n",
        "n = 100 # задаем число разбиений\n",
        "\n",
        "simpson_integral = simpson_method(f, a, b, n)\n",
        "\n",
        "rectangle_integral = rectangle_method(f, a, b, n)\n",
        "\n",
        "trapezoid_integral = trapezoid_method(f, a, b, n)\n",
        "\n",
        "print(\"Метод Симпсона:\", simpson_integral)\n",
        "print(\"Метод прямоугольников:\", rectangle_integral)\n",
        "print(\"Метод трапеций:\", trapezoid_integral)\n"
      ],
      "metadata": {
        "colab": {
          "base_uri": "https://localhost:8080/"
        },
        "id": "GRapOFPtjUGi",
        "outputId": "4162ae8d-6e78-4e5f-8011-76735923f264"
      },
      "execution_count": 20,
      "outputs": [
        {
          "output_type": "stream",
          "name": "stdout",
          "text": [
            "Метод Симпсона: 0.33333333333333337\n",
            "Метод прямоугольников: 0.33332500000000004\n",
            "Метод трапеций: 0.33335000000000004\n"
          ]
        }
      ]
    }
  ]
}